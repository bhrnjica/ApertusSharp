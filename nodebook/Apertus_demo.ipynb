{
 "cells": [
  {
   "cell_type": "code",
   "execution_count": null,
   "id": "3d7c2acc",
   "metadata": {},
   "outputs": [],
   "source": [
    "//Install ApertusSharp nuget package\n",
    "#r \"nuget: ApertusSharp\"\n",
    "\n",
    "//install other packages\n",
    "#r \"nuget: Microsoft.DotNet.Interactive.Formatting\"\n",
    "using Microsoft.DotNet.Interactive.Formatting;"
   ]
  },
  {
   "cell_type": "code",
   "execution_count": null,
   "id": "fc43ed22",
   "metadata": {},
   "outputs": [],
   "source": [
    "//Import Namespaces\n",
    "using ApertusSharp;\n",
    "using Microsoft.Extensions.AI;"
   ]
  },
  {
   "cell_type": "code",
   "execution_count": null,
   "id": "7c42d6c2",
   "metadata": {},
   "outputs": [],
   "source": [
    "var apiKey = Environment.GetEnvironmentVariable(\"APERTUS_TOKEN\"); // Replace with your actual API key\n",
    "var apertus = new ApertusClient(\n",
    "    apiKey: apiKey,\n",
    "    model: \"swiss-ai/apertus-8b-instruct\"\n",
    ");"
   ]
  },
  {
   "cell_type": "code",
   "execution_count": null,
   "id": "461c6dbb",
   "metadata": {},
   "outputs": [],
   "source": [
    "// Simple Chat interaction\n",
    "var response = await apertus.GetResponseAsync(\"Explain quantum computing in simple terms\");\n",
    "display(response);"
   ]
  }
 ],
 "metadata": {
  "kernelspec": {
   "display_name": ".NET (C#)",
   "language": "C#",
   "name": ".net-csharp"
  },
  "language_info": {
   "name": "polyglot-notebook"
  },
  "polyglot_notebook": {
   "kernelInfo": {
    "defaultKernelName": "csharp",
    "items": [
     {
      "aliases": [],
      "name": "csharp"
     }
    ]
   }
  }
 },
 "nbformat": 4,
 "nbformat_minor": 5
}
