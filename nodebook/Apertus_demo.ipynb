{
 "cells": [
  {
   "cell_type": "code",
   "execution_count": 2,
   "id": "3d7c2acc",
   "metadata": {
    "language_info": {
     "name": "polyglot-notebook"
    },
    "polyglot_notebook": {
     "kernelName": "csharp"
    }
   },
   "outputs": [
    {
     "data": {
      "text/html": [
       "<div><div></div><div></div><div><strong>Installed Packages</strong><ul><li><span>ApertusSharp, 0.2.1</span></li><li><span>Microsoft.DotNet.Interactive.Formatting, 1.0.0-beta.25323.1</span></li></ul></div></div>"
      ]
     },
     "metadata": {},
     "output_type": "display_data"
    }
   ],
   "source": [
    "//Install ApertusSharp nuget package\n",
    "#r \"nuget: ApertusSharp\"\n",
    "\n",
    "//install other packages\n",
    "#r \"nuget: Microsoft.DotNet.Interactive.Formatting, 1.0.0-beta.25323.1\"\n",
    "using Microsoft.DotNet.Interactive.Formatting;"
   ]
  },
  {
   "cell_type": "code",
   "execution_count": 3,
   "id": "fc43ed22",
   "metadata": {
    "language_info": {
     "name": "polyglot-notebook"
    },
    "polyglot_notebook": {
     "kernelName": "csharp"
    }
   },
   "outputs": [],
   "source": [
    "//Import Namespaces\n",
    "using ApertusSharp;\n",
    "using Microsoft.Extensions.AI;"
   ]
  },
  {
   "cell_type": "code",
   "execution_count": 4,
   "id": "7c42d6c2",
   "metadata": {
    "language_info": {
     "name": "polyglot-notebook"
    },
    "polyglot_notebook": {
     "kernelName": "csharp"
    }
   },
   "outputs": [],
   "source": [
    "var apiKey = Environment.GetEnvironmentVariable(\"APERTUS_TOKEN\"); // Replace with your actual API key\n",
    "var apertus = new ApertusClient(\n",
    "    apiKey: apiKey,\n",
    "    model: \"swiss-ai/apertus-8b-instruct\"\n",
    ");"
   ]
  },
  {
   "cell_type": "code",
   "execution_count": 5,
   "id": "461c6dbb",
   "metadata": {
    "language_info": {
     "name": "polyglot-notebook"
    },
    "polyglot_notebook": {
     "kernelName": "csharp"
    }
   },
   "outputs": [
    {
     "data": {
      "text/plain": [
       "Quantum computing is a type of computing that uses quantum-mechanical phenomena, such as superposition and entanglement, to perform operations on data. Unlike classical computers that use bits (0s and 1s) to represent data, quantum computers use quantum bits (qubits), which can exist in multiple states at once. This allows quantum computers to perform many calculations simultaneously, making them potentially much faster than classical computers for certain types of problems."
      ]
     },
     "metadata": {},
     "output_type": "display_data"
    }
   ],
   "source": [
    "// Simple Chat interaction\n",
    "var response = await apertus.GetResponseAsync(\"Explain quantum computing in simple terms\");\n",
    "display(response);"
   ]
  },
  {
   "cell_type": "code",
   "execution_count": null,
   "metadata": {
    "language_info": {
     "name": "polyglot-notebook"
    },
    "polyglot_notebook": {
     "kernelName": "csharp"
    }
   },
   "outputs": [],
   "source": []
  }
 ],
 "metadata": {
  "kernelspec": {
   "display_name": ".NET (C#)",
   "language": "C#",
   "name": ".net-csharp"
  },
  "language_info": {
   "name": "polyglot-notebook"
  },
  "polyglot_notebook": {
   "kernelInfo": {
    "defaultKernelName": "csharp",
    "items": [
     {
      "aliases": [],
      "name": "csharp"
     }
    ]
   }
  }
 },
 "nbformat": 4,
 "nbformat_minor": 5
}
